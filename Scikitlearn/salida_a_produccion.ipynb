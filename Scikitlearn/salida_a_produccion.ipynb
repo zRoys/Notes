{
 "cells": [
  {
   "cell_type": "markdown",
   "metadata": {},
   "source": [
    "# Revisión de nuestra arquitectura de código\n"
   ]
  },
  {
   "cell_type": "code",
   "execution_count": 57,
   "metadata": {},
   "outputs": [],
   "source": [
    "%run '/home/roy/Scikitlearn/utils.ipynb'\n",
    "%run '/home/roy/Scikitlearn/models.ipynb'"
   ]
  },
  {
   "cell_type": "code",
   "execution_count": 58,
   "metadata": {},
   "outputs": [
    {
     "name": "stdout",
     "output_type": "stream",
     "text": [
      "0.9319120119763175\n",
      "                      country  rank  score      high       low       gdp  \\\n",
      "0                      Norway     1  7.537  7.594445  7.479556  1.616463   \n",
      "1                     Denmark     2  7.522  7.581728  7.462272  1.482383   \n",
      "2                     Iceland     3  7.504  7.622030  7.385970  1.480633   \n",
      "3                 Switzerland     4  7.494  7.561772  7.426227  1.564980   \n",
      "4                     Finland     5  7.469  7.527542  7.410458  1.443572   \n",
      "..                        ...   ...    ...       ...       ...       ...   \n",
      "150                    Rwanda   151  3.471  3.543030  3.398970  0.368746   \n",
      "151                     Syria   152  3.462  3.663669  3.260331  0.777153   \n",
      "152                  Tanzania   153  3.349  3.461430  3.236570  0.511136   \n",
      "153                   Burundi   154  2.905  3.074690  2.735310  0.091623   \n",
      "154  Central African Republic   155  2.693  2.864884  2.521116  0.000000   \n",
      "\n",
      "       family    lifexp   freedom  generosity  corruption  dystopia  \n",
      "0    1.533524  0.796667  0.635423    0.362012    0.315964  2.277027  \n",
      "1    1.551122  0.792566  0.626007    0.355280    0.400770  2.313707  \n",
      "2    1.610574  0.833552  0.627163    0.475540    0.153527  2.322715  \n",
      "3    1.516912  0.858131  0.620071    0.290549    0.367007  2.276716  \n",
      "4    1.540247  0.809158  0.617951    0.245483    0.382612  2.430182  \n",
      "..        ...       ...       ...         ...         ...       ...  \n",
      "150  0.945707  0.326425  0.581844    0.252756    0.455220  0.540061  \n",
      "151  0.396103  0.500533  0.081539    0.493664    0.151347  1.061574  \n",
      "152  1.041990  0.364509  0.390018    0.354256    0.066035  0.621130  \n",
      "153  0.629794  0.151611  0.059901    0.204435    0.084148  1.683024  \n",
      "154  0.000000  0.018773  0.270842    0.280876    0.056565  2.066005  \n",
      "\n",
      "[155 rows x 12 columns]\n"
     ]
    }
   ],
   "source": [
    "utils = Utils()\n",
    "models = Models()\n",
    "\n",
    "data = utils.load_from_csv('/home/roy/Scikitlearn/data/felicidad.csv')\n",
    "X, y = utils.features_target(data, ['score','rank', 'country'],['score'])\n",
    "\n",
    "models.grid_training(X,y)\n",
    "\n",
    "print(data)\n"
   ]
  }
 ],
 "metadata": {
  "kernelspec": {
   "display_name": "base",
   "language": "python",
   "name": "python3"
  },
  "language_info": {
   "codemirror_mode": {
    "name": "ipython",
    "version": 3
   },
   "file_extension": ".py",
   "mimetype": "text/x-python",
   "name": "python",
   "nbconvert_exporter": "python",
   "pygments_lexer": "ipython3",
   "version": "3.10.9"
  },
  "orig_nbformat": 4
 },
 "nbformat": 4,
 "nbformat_minor": 2
}
