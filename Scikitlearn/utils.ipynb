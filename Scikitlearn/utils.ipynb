{
 "cells": [
  {
   "cell_type": "code",
   "execution_count": 1,
   "metadata": {},
   "outputs": [],
   "source": [
    "\n",
    "import pandas as pd\n",
    "import joblib\n",
    "\n",
    "# Intenta eliminar el atributo 'Utils' de la clase pd.DataFrame si existe\n",
    "try:\n",
    "    del pd.DataFrame.Utils\n",
    "except AttributeError:\n",
    "    pass\n",
    "\n",
    "# Utilizamos el decorador de registro de extensiones de pandas para definir un nuevo accessor 'Utils'\n",
    "@pd.api.extensions.register_dataframe_accessor(\"Utils\")\n",
    "class Utils:\n",
    "\n",
    "    # Método para cargar datos desde un archivo CSV\n",
    "    def load_from_csv(self, path):\n",
    "        return pd.read_csv(path)\n",
    "\n",
    "    # Método para cargar datos desde una base de datos MySQL\n",
    "    def load_from_mysql(self):\n",
    "        pass\n",
    "\n",
    "    # Método para separar características y objetivo del conjunto de datos\n",
    "    def features_target(self, dataset, drop_cols, y):\n",
    "        X = dataset.drop(drop_cols, axis=1)\n",
    "        y = dataset[y]\n",
    "        return X, y\n",
    "\n",
    "    # Método para exportar un modelo y su puntuación\n",
    "    def model_export(self, clf, score):\n",
    "        print(score)\n",
    "        joblib.dump(clf, '/home/roy/Scikitlearn/models/best_model.pkl')\n",
    "\n",
    "\n"
   ]
  }
 ],
 "metadata": {
  "kernelspec": {
   "display_name": "base",
   "language": "python",
   "name": "python3"
  },
  "language_info": {
   "codemirror_mode": {
    "name": "ipython",
    "version": 3
   },
   "file_extension": ".py",
   "mimetype": "text/x-python",
   "name": "python",
   "nbconvert_exporter": "python",
   "pygments_lexer": "ipython3",
   "version": "3.10.9"
  },
  "orig_nbformat": 4
 },
 "nbformat": 4,
 "nbformat_minor": 2
}
