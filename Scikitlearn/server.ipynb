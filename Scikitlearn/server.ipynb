{
 "cells": [
  {
   "cell_type": "code",
   "execution_count": 6,
   "metadata": {},
   "outputs": [
    {
     "name": "stdout",
     "output_type": "stream",
     "text": [
      " * Serving Flask app '__main__'\n",
      " * Debug mode: off\n"
     ]
    },
    {
     "name": "stderr",
     "output_type": "stream",
     "text": [
      "WARNING: This is a development server. Do not use it in a production deployment. Use a production WSGI server instead.\n",
      " * Running on http://127.0.0.1:8070\n",
      "Press CTRL+C to quit\n",
      "/home/roy/anaconda3/lib/python3.10/site-packages/sklearn/base.py:464: UserWarning: X does not have valid feature names, but SVR was fitted with feature names\n",
      "  warnings.warn(\n",
      "127.0.0.1 - - [08/Aug/2023 15:06:14] \"GET /predict HTTP/1.1\" 200 -\n",
      "127.0.0.1 - - [08/Aug/2023 15:06:14] \"GET /favicon.ico HTTP/1.1\" 404 -\n",
      "127.0.0.1 - - [08/Aug/2023 15:08:15] \"GET / HTTP/1.1\" 404 -\n",
      "127.0.0.1 - - [08/Aug/2023 15:08:15] \"GET /favicon.ico HTTP/1.1\" 404 -\n"
     ]
    }
   ],
   "source": [
    "import joblib\n",
    "import numpy as np\n",
    "from flask import Flask, jsonify\n",
    "\n",
    "# Crear una instancia de la aplicación Flask\n",
    "app = Flask(__name__)\n",
    "\n",
    "# Definir una ruta '/predict' para aceptar solicitudes GET\n",
    "@app.route('/predict', methods=['GET'])\n",
    "def predict():\n",
    "    # Definir los valores de características para realizar una predicción de prueba\n",
    "    X_test = np.array([7.594444821, 7.479555538, 1.616463184, 1.53352356, 0.796666503, 0.635422587, 0.362012237, 0.315963835, 2.277026653])\n",
    "    \n",
    "    # Realizar la predicción utilizando el modelo cargado\n",
    "    prediction = model.predict(X_test.reshape(1, -1))\n",
    "    \n",
    "    # Devolver la predicción en formato JSON\n",
    "    return jsonify({'prediccion': list(prediction)})\n",
    "\n",
    "# Iniciar la aplicación Flask si este archivo es el punto de entrada\n",
    "if __name__ == \"__main__\":\n",
    "    # Cargar el modelo previamente entrenado\n",
    "    model = joblib.load('./models/best_model.pkl')\n",
    "    \n",
    "    # Iniciar la aplicación Flask en el puerto 8070\n",
    "    app.run(port=8070)\n"
   ]
  }
 ],
 "metadata": {
  "kernelspec": {
   "display_name": "base",
   "language": "python",
   "name": "python3"
  },
  "language_info": {
   "codemirror_mode": {
    "name": "ipython",
    "version": 3
   },
   "file_extension": ".py",
   "mimetype": "text/x-python",
   "name": "python",
   "nbconvert_exporter": "python",
   "pygments_lexer": "ipython3",
   "version": "3.10.9"
  },
  "orig_nbformat": 4
 },
 "nbformat": 4,
 "nbformat_minor": 2
}
