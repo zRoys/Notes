{
  "cells": [
    {
      "attachments": {},
      "cell_type": "markdown",
      "metadata": {
        "id": "Esy8eTT9Y0d2"
      },
      "source": [
        "#### Importamos las librerías necesarias para el análisis"
      ]
    },
    {
      "cell_type": "code",
      "execution_count": 13,
      "metadata": {
        "id": "DVk5cURAYhOq"
      },
      "outputs": [],
      "source": [
        "import pandas as pd\n",
        "import numpy as np\n",
        "import random"
      ]
    },
    {
      "cell_type": "code",
      "execution_count": 14,
      "metadata": {
        "colab": {
          "base_uri": "https://localhost:8080/"
        },
        "id": "yvAAawcmZjT-",
        "outputId": "6a8b6815-4d67-443c-ee5b-8eb966131654"
      },
      "outputs": [
        {
          "data": {
            "text/plain": [
              "array([34.47408801, 35.20673102, 34.72071121, ..., 34.73639236,\n",
              "       33.78234418, 30.98558043])"
            ]
          },
          "execution_count": 14,
          "metadata": {},
          "output_type": "execute_result"
        }
      ],
      "source": [
        "# Creamos una muestra aleatoria de 10,0000 personas que tienen una edad promedio de 34 años\n",
        "data = np.random.normal(loc= 34, size=10000)\n",
        "data"
      ]
    },
    {
      "cell_type": "code",
      "execution_count": 15,
      "metadata": {
        "colab": {
          "base_uri": "https://localhost:8080/"
        },
        "id": "qzv5NJTFZ9LV",
        "outputId": "eb550fe9-353b-4f52-ee81-1ba4c741b127"
      },
      "outputs": [
        {
          "data": {
            "text/plain": [
              "34.01322976772037"
            ]
          },
          "execution_count": 15,
          "metadata": {},
          "output_type": "execute_result"
        }
      ],
      "source": [
        "# Comprobamos cuál es el promedio de edad de nuestra base\n",
        "data.mean()"
      ]
    },
    {
      "attachments": {},
      "cell_type": "markdown",
      "metadata": {
        "id": "ZxPFUkfNaRa8"
      },
      "source": [
        "#### Iniciamos el procedimiento para calcular el promedio de edad a partir de bootstrapping"
      ]
    },
    {
      "cell_type": "code",
      "execution_count": 23,
      "metadata": {
        "id": "FCvH2oSvaPrI"
      },
      "outputs": [
        {
          "name": "stdout",
          "output_type": "stream",
          "text": [
            "33.95519760187766\n"
          ]
        }
      ],
      "source": [
        "# Vamos a crear 40 muestras de tamaño 5 para estimar el promedio\n",
        "# Lista para almacenar los promedios\n",
        "promedio = []\n",
        "\n",
        "# Realizar el proceso 40 veces\n",
        "for i in range(40):\n",
        "  \n",
        "  # Seleccionar una muestra aleatoria de 5 elementos del conjunto de datos\n",
        "  muestra = random.sample(data.tolist(), 5)\n",
        "  \n",
        "  # Calcular el promedio de la muestra utilizando la función np.mean()\n",
        "  prom = np.mean(muestra)\n",
        "  \n",
        "  # Agregar el promedio a\n",
        "  promedio.append(prom)\n",
        "  \n",
        "print(np.mean(promedio))"
      ]
    },
    {
      "cell_type": "markdown",
      "metadata": {},
      "source": [
        "### Este valor representa una estimación del promedio poblacional basado en las muestras tomadas. En otras palabras, se espera que este valor sea cercano al verdadero valor del promedio de la población de la cual se extrajeron los datos."
      ]
    },
    {
      "attachments": {},
      "cell_type": "markdown",
      "metadata": {
        "id": "WzDbMqsfbKcT"
      },
      "source": [
        "La lista llamada promedio que hemos creado va a contener el promedio para las 40 muestras. Para estimar el promedio de la población tenemos que calcular el promedio de la lista promedio."
      ]
    },
    {
      "attachments": {},
      "cell_type": "markdown",
      "metadata": {
        "id": "iY2MIMhHcRS-"
      },
      "source": [
        "Cada vez obtendríamos un resultado diferente. El muestreo por bootstrapping saca promedios de una población creando muestras más pequeñas y se usa para DS e IA para evitar el overfitting. El sobreajuste es un error de modelado que se produce cuando una función se ajusta demasiado a un conjunto limitado de puntos de datos\n",
        "\n",
        " su utilidad y beneficios son más evidentes en muestras pequeñas, donde ayuda a estimar la variabilidad, evaluar la incertidumbre y mejorar la confiabilidad de las estimaciones y conclusiones."
      ]
    },
    {
      "cell_type": "markdown",
      "metadata": {},
      "source": [
        "el boostrapping sirve para \n",
        "\n",
        "Estimación de incertidumbre: El bootstrapping es útil para estimar la incertidumbre asociada a las estimaciones o parámetros calculados a partir de una muestra de datos. Al generar múltiples muestras remuestreadas, se puede calcular la variabilidad de las estimaciones y obtener intervalos de confianza, lo que proporciona una medida de la precisión y la estabilidad de los resultados.\n",
        "\n",
        "Validación de modelos: El bootstrapping se utiliza para evaluar y validar la capacidad de generalización de los modelos predictivos o clasificadores. Al generar múltiples muestras remuestreadas, se pueden entrenar y evaluar diferentes instancias del modelo, lo que proporciona una evaluación más robusta y confiable de su rendimiento en datos no vistos.\n",
        "\n",
        "Pruebas de hipótesis: El bootstrapping se utiliza para realizar pruebas de hipótesis y evaluar la significancia estadística de los resultados. Al generar múltiples muestras remuestreadas bajo la hipótesis nula, se pueden calcular estadísticos de interés y compararlos con los obtenidos en la muestra original, lo que permite inferir conclusiones sobre la hipótesis en cuestión.\n",
        "\n",
        "Construcción de intervalos de confianza: El bootstrapping es útil para construir intervalos de confianza robustos para diferentes estimaciones y parámetros. Al generar múltiples muestras remuestreadas, se pueden calcular estadísticas de interés en cada muestra y utilizar los percentiles de las distribuciones de estas estadísticas para construir intervalos de confianza, lo que proporciona una medida de la precisión de las estimaciones."
      ]
    }
  ],
  "metadata": {
    "colab": {
      "provenance": []
    },
    "kernelspec": {
      "display_name": "Python 3",
      "name": "python3"
    },
    "language_info": {
      "codemirror_mode": {
        "name": "ipython",
        "version": 3
      },
      "file_extension": ".py",
      "mimetype": "text/x-python",
      "name": "python",
      "nbconvert_exporter": "python",
      "pygments_lexer": "ipython3",
      "version": "3.10.9"
    }
  },
  "nbformat": 4,
  "nbformat_minor": 0
}
