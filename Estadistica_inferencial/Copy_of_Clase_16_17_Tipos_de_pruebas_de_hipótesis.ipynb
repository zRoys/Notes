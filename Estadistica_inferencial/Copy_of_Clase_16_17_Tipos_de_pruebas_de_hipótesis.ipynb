{
  "cells": [
    {
      "attachments": {},
      "cell_type": "markdown",
      "metadata": {
        "id": "mkDjlQlgi1EJ"
      },
      "source": [
        "#### Importamos las librerías necesarias para el análisis"
      ]
    },
    {
      "cell_type": "code",
      "execution_count": 32,
      "metadata": {
        "id": "oSK5fRU8i7w3"
      },
      "outputs": [],
      "source": [
        "import pandas as pd\n",
        "import numpy as np\n",
        "import seaborn as sns\n",
        "import scipy.stats as st\n",
        "from scipy.stats import f_oneway\n",
        "from scipy.stats import ttest_ind"
      ]
    },
    {
      "attachments": {},
      "cell_type": "markdown",
      "metadata": {
        "id": "Vnfg2Rb2kB_3"
      },
      "source": [
        "#### De nuevo, usaremos la base de datos Iris"
      ]
    },
    {
      "cell_type": "code",
      "execution_count": 33,
      "metadata": {
        "colab": {
          "base_uri": "https://localhost:8080/",
          "height": 206
        },
        "id": "C5ie4qeVjAMN",
        "outputId": "0e3f9232-9d5b-41ea-999a-bc4f42eaaa1f"
      },
      "outputs": [
        {
          "data": {
            "text/html": [
              "<div>\n",
              "<style scoped>\n",
              "    .dataframe tbody tr th:only-of-type {\n",
              "        vertical-align: middle;\n",
              "    }\n",
              "\n",
              "    .dataframe tbody tr th {\n",
              "        vertical-align: top;\n",
              "    }\n",
              "\n",
              "    .dataframe thead th {\n",
              "        text-align: right;\n",
              "    }\n",
              "</style>\n",
              "<table border=\"1\" class=\"dataframe\">\n",
              "  <thead>\n",
              "    <tr style=\"text-align: right;\">\n",
              "      <th></th>\n",
              "      <th>sepal_length</th>\n",
              "      <th>sepal_width</th>\n",
              "      <th>petal_length</th>\n",
              "      <th>petal_width</th>\n",
              "      <th>species</th>\n",
              "    </tr>\n",
              "  </thead>\n",
              "  <tbody>\n",
              "    <tr>\n",
              "      <th>0</th>\n",
              "      <td>5.1</td>\n",
              "      <td>3.5</td>\n",
              "      <td>1.4</td>\n",
              "      <td>0.2</td>\n",
              "      <td>setosa</td>\n",
              "    </tr>\n",
              "    <tr>\n",
              "      <th>1</th>\n",
              "      <td>4.9</td>\n",
              "      <td>3.0</td>\n",
              "      <td>1.4</td>\n",
              "      <td>0.2</td>\n",
              "      <td>setosa</td>\n",
              "    </tr>\n",
              "    <tr>\n",
              "      <th>2</th>\n",
              "      <td>4.7</td>\n",
              "      <td>3.2</td>\n",
              "      <td>1.3</td>\n",
              "      <td>0.2</td>\n",
              "      <td>setosa</td>\n",
              "    </tr>\n",
              "    <tr>\n",
              "      <th>3</th>\n",
              "      <td>4.6</td>\n",
              "      <td>3.1</td>\n",
              "      <td>1.5</td>\n",
              "      <td>0.2</td>\n",
              "      <td>setosa</td>\n",
              "    </tr>\n",
              "    <tr>\n",
              "      <th>4</th>\n",
              "      <td>5.0</td>\n",
              "      <td>3.6</td>\n",
              "      <td>1.4</td>\n",
              "      <td>0.2</td>\n",
              "      <td>setosa</td>\n",
              "    </tr>\n",
              "  </tbody>\n",
              "</table>\n",
              "</div>"
            ],
            "text/plain": [
              "   sepal_length  sepal_width  petal_length  petal_width species\n",
              "0           5.1          3.5           1.4          0.2  setosa\n",
              "1           4.9          3.0           1.4          0.2  setosa\n",
              "2           4.7          3.2           1.3          0.2  setosa\n",
              "3           4.6          3.1           1.5          0.2  setosa\n",
              "4           5.0          3.6           1.4          0.2  setosa"
            ]
          },
          "execution_count": 33,
          "metadata": {},
          "output_type": "execute_result"
        }
      ],
      "source": [
        "# url = \"https://archive.ics.uci.edu/ml/machine-learning-databases/iris/iris.data\"\n",
        "# names = ['sepal-length', 'sepal-width', 'petal-length', 'petal-width', 'class']\n",
        "# iris = pd.read_csv(url, names=names)\n",
        "iris = sns.load_dataset('iris')\n",
        "\n",
        "iris.head()"
      ]
    },
    {
      "cell_type": "code",
      "execution_count": 34,
      "metadata": {},
      "outputs": [],
      "source": [
        "iris = iris.select_dtypes(include=[np.number])"
      ]
    },
    {
      "attachments": {},
      "cell_type": "markdown",
      "metadata": {},
      "source": [
        "\n",
        "El nivel de significancia se refiere al valor total de ambas colas en un intervalo de confianza.\n",
        "\n",
        "En un intervalo de confianza bilateral (dos colas), el nivel de significancia se distribuye por igual en ambas colas de la distribución. Por ejemplo, si tienes un nivel de confianza del 80%, significa que tienes un 10% en cada cola de los datos, sumando un total de 20% para el nivel de significancia.\n",
        "\n",
        "En este caso, el nivel de significancia sería del 20% porque estás considerando tanto el extremo inferior (10%) como el extremo superior (10%) del intervalo de confianza."
      ]
    },
    {
      "attachments": {},
      "cell_type": "markdown",
      "metadata": {
        "id": "PThQDdrbqXAZ"
      },
      "source": [
        "## Tipos de pruebas:"
      ]
    },
    {
      "attachments": {},
      "cell_type": "markdown",
      "metadata": {},
      "source": [
        "el código está calculando el error estándar de la longitud del sépalo en el conjunto de datos \"iris\"\n",
        "\n",
        "El error estándar se calcula dividiendo la desviación estándar de las longitudes del sépalo por la raíz cuadrada del tamaño de la muestra."
      ]
    },
    {
      "attachments": {},
      "cell_type": "markdown",
      "metadata": {
        "id": "lzIC7sJz1rYl"
      },
      "source": [
        "### a) Distribución t de Student"
      ]
    },
    {
      "attachments": {},
      "cell_type": "markdown",
      "metadata": {
        "id": "PIQqXFvt811p"
      },
      "source": [
        "![Captura de pantalla 2022-03-31 a la(s) 10.14.41.png](data:image/png;base64,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)"
      ]
    },
    {
      "cell_type": "code",
      "execution_count": 35,
      "metadata": {
        "id": "OXdWcP3186yl"
      },
      "outputs": [],
      "source": [
        "se_length=iris.std()['sepal_length']/np.sqrt(10)\n",
        "se_width=iris.std()['sepal_width']/np.sqrt(10)"
      ]
    },
    {
      "attachments": {},
      "cell_type": "markdown",
      "metadata": {
        "id": "hush4GrQ89u_"
      },
      "source": [
        "![Captura de pantalla ](/home/roy/Estadistica_inferencial/img/formula.png)"
      ]
    },
    {
      "cell_type": "code",
      "execution_count": 36,
      "metadata": {
        "id": "ppv3yBUn9DGL"
      },
      "outputs": [],
      "source": [
        "sed=np.sqrt((se_length**2) + (se_width**2))"
      ]
    },
    {
      "attachments": {},
      "cell_type": "markdown",
      "metadata": {
        "id": "dH9peE9y9FwC"
      },
      "source": [
        "![Captura de pantalla 2022-03-31 a la(s) 10.19.24.png](data:image/png;base64,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)![Captura de pantalla 2022-03-31 a la(s) 10.17.14.png](data:image/png;base64,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)"
      ]
    },
    {
      "cell_type": "code",
      "execution_count": 37,
      "metadata": {
        "colab": {
          "base_uri": "https://localhost:8080/"
        },
        "id": "tWXEGsU0z4uh",
        "outputId": "437cae1a-06be-4afa-c7b7-0bc23e191bda"
      },
      "outputs": [
        {
          "data": {
            "text/plain": [
              "9.414779428410265"
            ]
          },
          "execution_count": 37,
          "metadata": {},
          "output_type": "execute_result"
        }
      ],
      "source": [
        "t_stat=(iris.mean()['sepal_length'] - iris.mean()['sepal_width'])/sed\n",
        "t_stat #= 9.41\n"
      ]
    },
    {
      "cell_type": "code",
      "execution_count": 38,
      "metadata": {
        "colab": {
          "base_uri": "https://localhost:8080/"
        },
        "id": "4BjFpUSR9Seb",
        "outputId": "dfd5d856-ca02-4423-af62-3c73ddb05bbc"
      },
      "outputs": [
        {
          "data": {
            "text/plain": [
              "Ttest_indResult(statistic=36.463283934449116, pvalue=7.027919392009369e-112)"
            ]
          },
          "execution_count": 38,
          "metadata": {},
          "output_type": "execute_result"
        }
      ],
      "source": [
        "p = ttest_ind(iris['sepal_length'], iris['sepal_width'])\n",
        "p #= 7.02 \n",
        "# en este caso el valor t es mayor que el pvalue lo que nos dice que podemos \n",
        "# descartar nuestra hipotesis nula\n",
        "# que nos dice que la distrubucion de ambas variables fueran muy similares \n",
        "# por lo tanto nos podemos ir por nuestra\n",
        "# hipotesis altenativa \n",
        "# si el valor t fuera menor que el p value significa que su distribucion de las 2 variables \n",
        "# es muy similar por lo tanto aceptariamos la hipotesis nula "
      ]
    },
    {
      "attachments": {},
      "cell_type": "markdown",
      "metadata": {
        "id": "STUtPbPpyPrr"
      },
      "source": [
        "El valor absoluto del valor t es mayor que el valor crítico, entonces rechazamos la hipótesis nula"
      ]
    },
    {
      "attachments": {},
      "cell_type": "markdown",
      "metadata": {
        "id": "5bH4R6vj1wFW"
      },
      "source": [
        "### b) Correlación y coeficiente de Pearson"
      ]
    },
    {
      "cell_type": "code",
      "execution_count": 42,
      "metadata": {
        "colab": {
          "base_uri": "https://localhost:8080/"
        },
        "id": "v7a4WupzlwYj",
        "outputId": "987b7691-20b5-49e0-89e6-08fcb92d22bb"
      },
      "outputs": [
        {
          "data": {
            "text/plain": [
              "-0.11756978413300208"
            ]
          },
          "execution_count": 42,
          "metadata": {},
          "output_type": "execute_result"
        }
      ],
      "source": [
        "# Estudiamos la correlación entre length y width\n",
        "iris['sepal_length'].corr(iris['sepal_width'])\n",
        "\n",
        "# en este caso es -0.11 lo que indica que hay una correlacion debil negativa"
      ]
    },
    {
      "attachments": {},
      "cell_type": "markdown",
      "metadata": {},
      "source": [
        "en el coeficiente de correlación de Pearson, un valor de 1 indica una correlación positiva perfecta, un valor de -1 indica una correlación negativa perfecta y un valor de 0 indica una correlación nula o ausencia de relación lineal."
      ]
    },
    {
      "cell_type": "code",
      "execution_count": 43,
      "metadata": {
        "colab": {
          "base_uri": "https://localhost:8080/"
        },
        "id": "8sG6hLR4ncMg",
        "outputId": "d50f11ec-bd47-42ce-cb7a-09778a93377b"
      },
      "outputs": [
        {
          "data": {
            "text/plain": [
              "PearsonRResult(statistic=-0.11756978413300204, pvalue=0.15189826071144918)"
            ]
          },
          "execution_count": 43,
          "metadata": {},
          "output_type": "execute_result"
        }
      ],
      "source": [
        "# A continuación, estudiamos la correlación de Pearson entre ambas variables\n",
        "st.pearsonr(iris['sepal_length'], iris['sepal_width'])\n",
        "\n",
        "# PearsonRResult(statistic=-0.11756978413300204, pvalue=0.15189826071144918)\n",
        "# nos muestra la correlacion y pvalue"
      ]
    },
    {
      "attachments": {},
      "cell_type": "markdown",
      "metadata": {},
      "source": [
        " si el valor de p es mayor que el nivel de significancia (por ejemplo, p > 0.05), no podemos descartar la hipótesis nula y no se puede afirmar una correlación significativa. Si el valor de p es menor que el nivel de significancia (por ejemplo, p < 0.05), podríamos rechazar la hipótesis nula y concluir que hay evidencia de una correlación significativa."
      ]
    },
    {
      "attachments": {},
      "cell_type": "markdown",
      "metadata": {
        "id": "IKcAlhe0xB5W"
      },
      "source": [
        "Correlación débil o inexistente"
      ]
    },
    {
      "attachments": {},
      "cell_type": "markdown",
      "metadata": {
        "id": "q7JHIh97q5ct"
      },
      "source": [
        "### c) Análisis de la varianza (ANOVA)"
      ]
    },
    {
      "attachments": {},
      "cell_type": "markdown",
      "metadata": {},
      "source": [
        "El Análisis de la Varianza (ANOVA) es una técnica estadística utilizada para comparar las medias de tres o más grupos diferentes y determinar si hay diferencias significativas entre ellos. El ANOVA examina la variación dentro de cada grupo y la variación entre los grupos para realizar inferencias sobre la población en general."
      ]
    },
    {
      "attachments": {},
      "cell_type": "markdown",
      "metadata": {},
      "source": [
        "El test ANOVA considera suposiciones importantes que deben cumplirse para que el valor p asociado sea válido:\n",
        "\n",
        "Las muestras son independientes.\n",
        "\n",
        "Cada muestra es de una población normalmente distribuida.\n",
        "\n",
        "Las desviaciones estándar de población de los grupos son todas iguales. Esta propiedad se conoce como homocedasticidad."
      ]
    },
    {
      "cell_type": "code",
      "execution_count": 41,
      "metadata": {
        "colab": {
          "base_uri": "https://localhost:8080/"
        },
        "id": "wZi6fjYnq7eB",
        "outputId": "7f5b3bf7-2e96-41ac-887a-6914b6070b56"
      },
      "outputs": [
        {
          "data": {
            "text/plain": [
              "F_onewayResult(statistic=1329.571075284254, pvalue=7.027919392009998e-112)"
            ]
          },
          "execution_count": 41,
          "metadata": {},
          "output_type": "execute_result"
        }
      ],
      "source": [
        "f_oneway(iris['sepal_length'], iris['sepal_width'])"
      ]
    },
    {
      "attachments": {},
      "cell_type": "markdown",
      "metadata": {
        "id": "LwTYtMGUvYiZ"
      },
      "source": [
        "F Test es 1329.571075284254 y su pvalue correspondiente es 7.027919392009998e-112. Dado que es un número inferior a 0.05 mo rechazamos la hipótesis nula de que las medias entre variables son similares "
      ]
    },
    {
      "attachments": {},
      "cell_type": "markdown",
      "metadata": {},
      "source": [
        "En el estadístico F del ANOVA, un valor grande indica que hay una mayor diferencia entre las medias de los grupos en relación con la variabilidad dentro de los grupos. Es decir, un valor grande indica que existe una mayor variación entre los grupos en comparación con la variación dentro de los grupos. Sin embargo, este valor no indica necesariamente la magnitud de la diferencia entre las variables en términos prácticos.\n",
        "\n",
        "En el p-valor del ANOVA, un valor cercano a 0 (menor que el nivel de significancia, generalmente 0.05) indica que hay una diferencia significativa entre las medias de los grupos. Esto significa que las diferencias observadas son altamente improbables de ocurrir por azar. En este caso, se rechazaría la hipótesis nula y se concluiría que hay diferencias significativas entre las variables.\n",
        "\n",
        "Por otro lado, si el p-valor es mayor que el nivel de significancia (por ejemplo, p > 0.05), no hay suficiente evidencia para rechazar la hipótesis nula y se concluye que no hay diferencias significativas entre las medias de los grupos. En este caso, se puede considerar que las variables son similares en términos estadísticos."
      ]
    }
  ],
  "metadata": {
    "colab": {
      "provenance": []
    },
    "kernelspec": {
      "display_name": "Python 3",
      "name": "python3"
    },
    "language_info": {
      "codemirror_mode": {
        "name": "ipython",
        "version": 3
      },
      "file_extension": ".py",
      "mimetype": "text/x-python",
      "name": "python",
      "nbconvert_exporter": "python",
      "pygments_lexer": "ipython3",
      "version": "3.10.9"
    }
  },
  "nbformat": 4,
  "nbformat_minor": 0
}
