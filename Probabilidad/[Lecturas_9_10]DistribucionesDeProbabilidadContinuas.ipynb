{
  "cells": [
    {
      "attachments": {},
      "cell_type": "markdown",
      "metadata": {
        "id": "7AZc-zbQsRD9"
      },
      "source": [
        "# Distribuciones continuas (e.j. gaussiana)\n",
        "\n",
        "Recordemos que la distribución de probabilidad normal o gaussiana está dada por: \n",
        "\n",
        "$$P(X) = \\frac{1}{\\sigma \\sqrt{2 \\pi}} \\exp{\\left[-\\frac{1}{2}\\left(\\frac{X-\\mu}{\\sigma} \\right)^2 \\right]}$$\n",
        "\n",
        "donde:\n",
        "\n",
        "* $\\mu$: media de la distribución\n",
        "\n",
        "$$\\mu = \\frac{\\sum_{i=1}^{N} x_i}{N}$$\n",
        "\n",
        "\n",
        "* $\\sigma$: desviación estandar de la distribución\n",
        "\n",
        "$$\\sigma = \\sqrt{\\frac{\\sum_{i=1}^{N}(x_i-\\mu)^2}{N}}$$\n",
        "\n",
        "\n",
        "`Ejemplo`: considerando una variable aleatoria que sigue una distribución normal con media $\\mu=4$ y desviación estándar $\\sigma=0.3$, la probabilidad de que dicha variable tome el valor de $0.2$ está dada por: \n",
        "\n",
        "$$P(0.2) =  \\frac{1}{0.3 \\sqrt{2 \\pi}} \\exp{\\left[-\\frac{1}{2}\\left(\\frac{0.2-4}{0.3} \\right)^2 \\right]}$$\n",
        "\n",
        "Lo cual en Python se traduce en: \n",
        "\n",
        "```python\n",
        "from scipy.stats import norm\n",
        "\n",
        "norm(mu, sigma).pdf(X)\n",
        "```\n",
        "\n",
        "---\n",
        "\n",
        "Así también, la distribucion de probabilidad acumulada correspondiente está dada por: \n",
        "\n",
        "$$C(X) = \\int_{x<=X} P(x)dx = \\int_{- \\infty}^xP(X)dX $$\n",
        "\n",
        "teniendo en cuenta que $Dom(X) = (-\\infty, \\infty)$. \n",
        "\n",
        "`Ejemplo`: considerando una variable aleatoria que sigue una distribucion normal con media $\\mu=4$ y desviación estándar $\\sigma=0.3$, la probabilidad de que dicha variable tome el valor de $0.2$ o menos está dada por:\n",
        "\n",
        "$$C(0.2) = \\int_{x<=0.2} P(x)dx = \\int_{- \\infty}^{0.2}  \\left\\{\\frac{1}{0.3 \\sqrt{2 \\pi}} \\exp{\\left[-\\frac{1}{2}\\left(\\frac{X-4}{0.3} \\right)^2 \\right]} \\right\\} dX $$\n",
        "\n",
        "La cual se calcula en Python como: \n",
        "\n",
        "```python \n",
        "from scipy.stats import norm\n",
        "\n",
        "norm(mu, sigma).cdf(X)\n",
        "```\n",
        "\n",
        "_**Es importante recordar que la función de probabilidad acumulada de la distribución gaussiana no se puede calcular de forma exacta, ya que la integral anterior no tiene una expresión cerrada conocida. Es decir, los métodos de integración conocidos no funcionan para resolver esta integral.**_"
      ]
    },
    {
      "attachments": {},
      "cell_type": "markdown",
      "metadata": {},
      "source": [
        "entonces esto calcula la probabilidad que puede tomar una variable \n",
        "El cálculo de la distribución continua es importante porque permite a los estadísticos y científicos modelar y analizar eventos complejos que no pueden ser modelados por distribuciones discretas, como la distribución binomial o la distribución de Poisson.\n",
        "\n",
        "haces esto si no lo puedes hacer con istribución binomial o la distribución de Poisson."
      ]
    },
    {
      "attachments": {},
      "cell_type": "markdown",
      "metadata": {
        "id": "dUItRlD0u6Xz"
      },
      "source": [
        "# Ejercicios (bloque 1)\n",
        "\n",
        "Considerando una variable aleatoria que sigue una distribución normal con media $\\mu=4$ y desviación estándar $\\sigma=0.1$, calcula las siguientes probabilidades (usando Python):\n",
        "\n",
        "1. $P(X=4)$\n",
        "2. $P(X=-10)$\n",
        "3. $P(X=10)$\n",
        "4. $P(X<=4)$\n",
        "6. $P(X>=4)$\n",
        "\n",
        "usas pdf cuando es X=, y usas cdf cuando es X<= & X>=\n",
        "\n",
        "se utiliza la función PDF cuando se busca calcular la probabilidad de que la variable aleatoria sea igual a un valor específico x, es decir, cuando se busca la probabilidad de P(X=x).\n",
        "\n",
        "Por otro lado, la función de distribución acumulativa (CDF) se utiliza para calcular la probabilidad de que una variable aleatoria tome un valor menor o igual a un cierto punto en su rango de valores(en el caso de X<=x), o mayor o igual a un cierto punto en su rango de valores (en el caso de X>=x)."
      ]
    },
    {
      "cell_type": "code",
      "execution_count": 2,
      "metadata": {},
      "outputs": [
        {
          "name": "stdout",
          "output_type": "stream",
          "text": [
            "P(X=4) =  3.989422804014327\n",
            "P(X=-10) =  0.0\n",
            "P(X=10) =  0.0\n",
            "P(X<=4) =  0.5\n",
            "P(X>=4) =  0.5\n"
          ]
        }
      ],
      "source": [
        "import scipy.stats as stats\n",
        "\n",
        "# Definir los parámetros de la distribución normal\n",
        "mu = 4\n",
        "sigma = 0.1\n",
        "\n",
        "# Calcular las probabilidades solicitadas\n",
        "\n",
        "# 1. P(X=4)\n",
        "p1 = stats.norm(mu, sigma).pdf(4)\n",
        "\n",
        "# 2. P(X=-10)\n",
        "p2 = stats.norm(mu, sigma).pdf(-10)\n",
        "\n",
        "# 3. P(X=10)\n",
        "p3 = stats.norm(mu, sigma).pdf(10)\n",
        "\n",
        "# 4. P(X<=4)\n",
        "p4 = stats.norm(mu, sigma).cdf(4)\n",
        "\n",
        "# 5. P(X>=4)\n",
        "p5 = 1 - stats.norm(mu, sigma).cdf(4)\n",
        "\n",
        "# Imprimir los resultados\n",
        "print(\"P(X=4) = \", p1)\n",
        "print(\"P(X=-10) = \", p2)\n",
        "print(\"P(X=10) = \", p3)\n",
        "print(\"P(X<=4) = \", p4)\n",
        "print(\"P(X>=4) = \", p5)\n"
      ]
    },
    {
      "attachments": {},
      "cell_type": "markdown",
      "metadata": {
        "id": "gJZrejp27x1N"
      },
      "source": [
        "# De la binomial a la gaussiana\n",
        "\n",
        "En la clase 8 vimos como generar secuencias aleatorias de experimentos binomiales ([aquí](https://colab.research.google.com/drive/1MR9VZg19vHyZhvWWuxtNcy_3PZQ7AfwW?usp=sharing)), donde cada experimento era lanzar un cierto número de monedas. \n",
        "\n",
        "**¿Qué sucede si el número consecutivo de monedas que lanzamos en cada experimento (trial) es muy largo?**\n",
        "\n",
        "La función `generate_binomial_trials()` nos muestra lo que sucede si graficamos los resultados de muchos experimentos de lanzar 100 monedas en cada intento, con pyplot: "
      ]
    },
    {
      "cell_type": "code",
      "execution_count": 3,
      "metadata": {
        "colab": {
          "base_uri": "https://localhost:8080/",
          "height": 282
        },
        "id": "77J2bk7Io8aW",
        "outputId": "b6b18833-bf2f-4b95-fd05-483f9b3deaa1"
      },
      "outputs": [
        {
          "name": "stdout",
          "output_type": "stream",
          "text": [
            "numero en la lista unico  [30 31 32 33 34 35 36 37 38 39 40 41 42 43 44 45 46 47 48 49 50 51 52 53\n",
            " 54 55 56 57 58 59 60 61 62 63 64 65 66 67 68 69 70 73]\n",
            "numero de veces que se repite el mismo numero en la lista  [   2    3   13   17   55   90  164  249  449  711 1047 1581 2317 2982\n",
            " 3867 4872 5817 6650 7166 7758 7951 7864 7406 6649 5842 4762 3961 3006\n",
            " 2305 1641 1032  717  444  258  152   96   59   25   12    6    1    1]\n",
            "numeros de exito [43 55 44 ... 56 57 53]\n"
          ]
        },
        {
          "data": {
            "text/plain": [
              "<BarContainer object of 42 artists>"
            ]
          },
          "execution_count": 3,
          "metadata": {},
          "output_type": "execute_result"
        },
        {
          "data": {
            "image/png": "[encoded data removed]",
            "text/plain": [
              "<Figure size 640x480 with 1 Axes>"
            ]
          },
          "metadata": {},
          "output_type": "display_data"
        }
      ],
      "source": [
        "import numpy as np\n",
        "from numpy.random import binomial\n",
        "import matplotlib.pyplot as plt\n",
        "\n",
        "def generate_binomial_trials(trials=1000, coin_toss=100):\n",
        "  '''\n",
        "  el resultado de esta funcion es generar un conjuntos \n",
        "  de experimentos binomiales (trials) y de cada uno obtener \n",
        "  las cantidades de exitos en cada secuencia (e.j. lanzar monedas).\n",
        "\n",
        "  * trial: es una secuencia de <coin_toss> lanzamientos de moneda\n",
        "\n",
        "  * coin_toss: es el numero de monedas lanzadas en cada trial\n",
        "  '''\n",
        "  arr = []\n",
        "  for _ in range(trials):\n",
        "    arr.append(binomial(coin_toss, 0.5))\n",
        "  values, dist = np.unique(arr, return_counts=True)\n",
        "# La función binomial devuelve el número de éxitos en coin_toss lanzamientos de una moneda equilibrada, \n",
        "# donde la probabilidad de éxito es de 0.5. El número de éxitos se agrega a la lista arr en cada iteración del bucle.\n",
        "  return values, dist, np.array(arr)\n",
        "\n",
        "values, dist, arr = generate_binomial_trials(100000)\n",
        "print('numero en la lista unico ',values)# aqui se ve el valor unico ejemplo si salio 29 lo pongo por que salio cuantas veces salio nose pero se que salio \n",
        "print('numero de veces que se repite el mismo numero en la lista ',dist) # ejemplo si sale 2 es decir se repitio n numero 2 veces, yo se que salio el mismo numero 100 veces cual nose pero salio 100 veces \n",
        "print('numeros de exito',arr)# aqui te va a decir salio primero 32 caras luego 67 caras luego 43 caras, numeros ramdom, salio 51 luego 59 luego 60 etc en este primer intento que hice 100 veces de 1000 intentos \n",
        "plt.bar(values, dist)\n"
      ]
    },
    {
      "attachments": {},
      "cell_type": "markdown",
      "metadata": {},
      "source": [
        "\n",
        " La variable values contiene los valores únicos de la lista arr, es decir, los números posibles de éxitos en cada trial. La variable dist contiene las frecuencias correspondientes a cada valor en values, es decir, cuántas veces aparece cada valor en la lista arr. La variable arr contiene todos los resultados de los trials experimentos binomiales."
      ]
    },
    {
      "attachments": {},
      "cell_type": "markdown",
      "metadata": {
        "id": "HQ8eIXdj9Vx-"
      },
      "source": [
        "¿Se parece a algo conocido? Tal vez una ditribución normal se ajuste, para verificarlo haremos el siguiente ejercicio: \n",
        "\n",
        "# Ejercicios (bloque 2)\n",
        "\n",
        "1. Con los resultados anteriores guardados en `values, dist` ajusta, usando el método de estimación paramétrica, una distribución gaussiana donde la media y desviación estándar correspondan a lo calculado a partir de los datos, de la misma manera que se hizo en el notebook de la clase 9 ([aquí](https://colab.research.google.com/drive/1weFtkmxdn_WnGW582Xugj9t7Mjzxis5b?usp=sharing))."
      ]
    },
    {
      "cell_type": "code",
      "execution_count": 4,
      "metadata": {
        "id": "vvVEjooO3qRq"
      },
      "outputs": [
        {
          "data": {
            "text/plain": [
              "<BarContainer object of 42 artists>"
            ]
          },
          "execution_count": 4,
          "metadata": {},
          "output_type": "execute_result"
        },
        {
          "data": {
            "image/png": "[encoded data removed]",
            "text/plain": [
              "<Figure size 640x480 with 1 Axes>"
            ]
          },
          "metadata": {},
          "output_type": "display_data"
        }
      ],
      "source": [
        "from scipy.stats import norm \n",
        "mu = arr.mean()\n",
        "sigma = arr.std()\n",
        "normal = norm(mu, sigma)\n",
        "\n",
        "X = np.arange(30,70,0.1)\n",
        "Y = [normal.pdf(i) for i in X]\n",
        "\n",
        "plt.plot(X, Y,'r')\n",
        "plt.bar(values, dist/len(arr))\n"
      ]
    },
    {
      "attachments": {},
      "cell_type": "markdown",
      "metadata": {
        "id": "VvlbR1VC-JX2"
      },
      "source": [
        "Si todo salió bien, habrás notado que en efecto una distribución normal se ajusta perfectamente a los datos. Esto se conoce como el **teorema del límite central**, el cual establece que en muchas situaciones conocidas, cuando variables aleatorias independientes se combinan, su total tiende a seguir una distribución normal cuando el número de variables que se combinan es muy grande $n \\rightarrow \\infty$. "
      ]
    },
    {
      "cell_type": "code",
      "execution_count": 12,
      "metadata": {},
      "outputs": [
        {
          "name": "stdout",
          "output_type": "stream",
          "text": [
            "50.01446 50.01446\n"
          ]
        }
      ],
      "source": [
        "def optimal_mu(arr=arr):\n",
        "  mu = 0\n",
        "  for i in arr:\n",
        "    mu += i\n",
        "  return mu/len(arr)\n",
        "\n",
        "print(optimal_mu(), arr.mean())"
      ]
    }
  ],
  "metadata": {
    "colab": {
      "provenance": []
    },
    "kernelspec": {
      "display_name": "Python 3",
      "name": "python3"
    },
    "language_info": {
      "codemirror_mode": {
        "name": "ipython",
        "version": 3
      },
      "file_extension": ".py",
      "mimetype": "text/x-python",
      "name": "python",
      "nbconvert_exporter": "python",
      "pygments_lexer": "ipython3",
      "version": "3.11.2"
    }
  },
  "nbformat": 4,
  "nbformat_minor": 0
}
