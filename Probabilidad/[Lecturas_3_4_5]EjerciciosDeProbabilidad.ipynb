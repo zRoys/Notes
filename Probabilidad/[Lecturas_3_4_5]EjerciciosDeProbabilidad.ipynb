{
  "cells": [
    {
      "attachments": {},
      "cell_type": "markdown",
      "metadata": {
        "id": "OuVGSARZqcKF"
      },
      "source": [
        "# Tipos de probabilidad (revisión de conceptos)\n",
        "\n",
        "Según lo visto en clase, tenemos tres tipos de probabilidad a definir. Sean A y B dos eventos aleatorios diferentes, entonces:\n",
        "\n",
        "---\n",
        "\n",
        "`Probabilidad conjunta`: sean $A$ y $B$ dos eventos aleatorios diferentes, definimos la probabilidad conjunta de que ambos eventos ocurran por medio de la regla del producto: \n",
        "\n",
        "$$P(A, B) = P(A|B)P(B)$$ \n",
        "\n",
        "\n",
        "donde $P(A|B)$ se define como la `probabilidad condicional` de que ocurra A dado B, y $P(B)$ es la probabilidad de que ocurra B (sin conocimiento extra de otras variables).\n",
        "$$P(A|B) = P( A n B) / P(B)$$\n",
        "---\n",
        "\n",
        "`Probabilidad marginal`: la probabilidad marginal de A sobre una distribución conjunta de probabilidades en A y B, se define como la suma de todas las probabilidades conjuntas $P(A, B)$ considerando todos los posibles valores de B: \n",
        "\n",
        "$$P(A) = \\sum_{B=b} P(A,B) = \\sum_{B=b} P(A|B) P(B)$$\n",
        "\n"
      ]
    },
    {
      "attachments": {},
      "cell_type": "markdown",
      "metadata": {
        "id": "YTVHbmebucgL"
      },
      "source": [
        "# Ejercicios (bloque 1)\n",
        "\n",
        "Considerando un lanzamiento de un dado y considerando los siguientes eventos aleatorios: \n",
        "\n",
        "A = {el resultado del lanzamiento de un dado es 6}\n",
        "\n",
        "B = {el resultado del lanzamiento de un dado es par}\n",
        "\n",
        "C = {el resultado del lanzamiento de un dado es impar}\n",
        "\n",
        "calcula las siguientes probabilidades: \n",
        "\n",
        "1. $P(A|B) = ?$\n",
        "2. $P(A|C) = ?$\n",
        "3. $P(B|C) = ?$\n"
      ]
    },
    {
      "attachments": {},
      "cell_type": "markdown",
      "metadata": {},
      "source": [
        "En el caso de P(A|B), el evento condicionante es B, que es \"el resultado del lanzamiento de un dado es par\". Sabemos que la probabilidad de que ocurra el evento B es de 3/6 o 1/2, ya que hay tres resultados pares posibles en un dado de seis caras (2, 4 y 6). Por lo tanto, el denominador que usamos para calcular P(A|B) es P(B) = 1/2.\n",
        "\n",
        "En el caso de P(A|C), el evento condicionante es C, que es \"el resultado del lanzamiento de un dado es impar\". Sabemos que la probabilidad de que ocurra el evento C es de 3/6 o 1/2, ya que hay tres resultados impares posibles en un dado de seis caras (1, 3 y 5). Sin embargo, dado que el evento A es \"el resultado del lanzamiento de un dado es 6\", que es un resultado par, sabemos que P(A|C) es 0, ya que es imposible obtener un 6 en un dado dado que se sabe que el resultado es impar.\n",
        "\n",
        "En el caso de P(B|C), el evento condicionante es C, que es \"el resultado del lanzamiento de un dado es impar\". Sabemos que la probabilidad de que ocurra el evento C es de 3/6 o 1/2, ya que hay tres resultados impares posibles en un dado de seis caras (1, 3 y 5). Sin embargo, dado que el evento B es \"el resultado del lanzamiento de un dado es par\", que es un resultado que nunca se obtendría si ya sabemos que el resultado es impar, sabemos que P(B|C) es 0."
      ]
    },
    {
      "attachments": {},
      "cell_type": "markdown",
      "metadata": {
        "id": "8U9IOHWXv89f"
      },
      "source": [
        "# Ejercicios (bloque 2)\n",
        "\n",
        "Considerando una ruleta de doce números \n",
        "\n",
        "{$1,2,3,4,5,6,7,8,9,10,11,12$} \n",
        "\n",
        "dos jugadores eligen 6 números, cada uno de ellos. Supón que el jugador 1 elige A = {$1,2,3,4,5,6$} y calcula las siguientes probabilidades: \n",
        "\n",
        "1. $P(A|B)$ sabiendo que el jugador 2 elige B = {$2,4,6,8,10,12$}\n",
        "2. $P(A|B)$ sabiendo que el jugador 2 elige B = {$1,3,5,7,9,11$}\n",
        "3. $P(A|B)$ sabiendo que el jugador 2 elige B = {$5,6,7,8,9,10$}\n",
        "\n"
      ]
    },
    {
      "attachments": {},
      "cell_type": "markdown",
      "metadata": {},
      "source": [
        "Para calcular estas probabilidades, debemos recordar que la probabilidad condicional de A dado B se define como:\n",
        "\n",
        "P(A|B) = P(A intersección B) / P(B)\n",
        "\n",
        "donde P(A intersección B) es la probabilidad de que ambos jugadores hayan elegido los números en A intersección B (es decir, los números que están en ambos conjuntos) y P(B) es la probabilidad de que el jugador 2 haya elegido los números en B.\n",
        "\n",
        "Si el jugador 2 elige B = {2,4,6,8,10,12}, entonces la intersección de A y B es {2,4,6}, por lo que P(A intersección B) = 3/12 = 1/4. La probabilidad de que el jugador 2 elija B es P(B) = 6/12 = 1/2. Por lo tanto, la probabilidad condicional de A dado B es:\n",
        "P(A|B) = P(A intersección B) / P(B) = (1/4) / (1/2) = 1/2\n",
        "\n",
        "Por lo tanto, la probabilidad de que el jugador 1 gane si el jugador 2 elige B = {2,4,6,8,10,12} es 1/2.\n",
        "\n",
        "Si el jugador 2 elige B = {1,3,5,7,9,11}, entonces la intersección de A y B es vacía (no hay números que estén en ambos conjuntos), por lo que P(A intersección B) = 0. La probabilidad de que el jugador 2 elija B es P(B) = 6/12 = 1/2. Por lo tanto, la probabilidad condicional de A dado B es:\n",
        "P(A|B) = P(A intersección B) / P(B) = 0 / (1/2) = 0\n",
        "\n",
        "Por lo tanto, la probabilidad de que el jugador 1 gane si el jugador 2 elige B = {1,3,5,7,9,11} es 0.\n",
        "\n",
        "Si el jugador 2 elige B = {5,6,7,8,9,10}, entonces la intersección de A y B es {5,6}, por lo que P(A intersección B) = 2/12 = 1/6. La probabilidad de que el jugador 2 elija B es P(B) = 6/12 = 1/2. Por lo tanto, la probabilidad condicional de A dado B es:\n",
        "P(A|B) = P(A intersección B) / P(B) = (1/6) / (1/2) = 1/3\n",
        "\n",
        "Por lo tanto, la probabilidad de que el jugador 1 gane si el jugador 2 elige B = {5,6,7,8,9,10} es 1/3."
      ]
    },
    {
      "attachments": {},
      "cell_type": "markdown",
      "metadata": {
        "id": "NibRqkn-0IlF"
      },
      "source": [
        "# Ejercicios (bloque 3)\n",
        "\n",
        "Considera un problema donde se lanzan dos monedas, sean $m_1$ y $m_2$. Verifica la regla del producto para las siguientes probabilidades (dibuja el espacio muestral y calcula cada probabilidad por separado): \n",
        "1. $P(m_1 = \\text{cara}, m_2 = \\text{sello})$\n",
        "2. $P(m_1 = \\text{cara} | m_2 = \\text{sello})$\n",
        "3. $P(m_2 = \\text{sello})$"
      ]
    },
    {
      "attachments": {},
      "cell_type": "markdown",
      "metadata": {},
      "source": [
        "Para resolver este problema, primero debemos identificar el espacio muestral, que es el conjunto de todos los posibles resultados del experimento. En este caso, el espacio muestral es:\n",
        "\n",
        "{CC, CS, SC, SS}\n",
        "\n",
        "donde C significa cara y S significa sello.\n",
        "\n",
        "Ahora podemos calcular las probabilidades pedidas:\n",
        "\n",
        "1 P(m_1 = cara, m_2 = sello) = 1/4, ya que solo hay un resultado que satisface esta condición: CS.\n",
        "\n",
        "2 P(m_1 = cara | m_2 = sello) = P(m_1 = cara y m_2 = sello) / P(m_2 = sello). Como ya calculamos la probabilidad del numerador en el inciso anterior, solo necesitamos calcular la probabilidad del denominador. Hay dos resultados que satisfacen la condición m_2 = sello: CS y SS. Entonces, P(m_2 = sello) = 2/4 = 1/2. Por lo tanto, P(m_1 = cara | m_2 = sello) = (1/4) / (1/2) = 1/2.\n",
        "\n",
        "3 P(m_2 = sello) = 2/4 = 1/2, como ya se calculó en el inciso anterior.\n",
        "\n",
        "Finalmente, podemos verificar la regla del producto para este problema. La regla del producto establece que la probabilidad conjunta de dos eventos A y B es igual a la probabilidad de A dado B multiplicada por la probabilidad de B. En este caso, podemos verificar la regla del producto para la probabilidad de m_1 = cara y m_2 = sello:\n",
        "\n",
        "P(m_1 = cara y m_2 = sello) = P(m_1 = cara | m_2 = sello) * P(m_2 = sello) = (1/2) * (1/2) = 1/4.\n",
        "\n",
        "Y vemos que esta probabilidad es igual a la probabilidad que se calculó directamente en el primer inciso."
      ]
    }
  ],
  "metadata": {
    "colab": {
      "provenance": []
    },
    "kernelspec": {
      "display_name": "Python 3",
      "name": "python3"
    }
  },
  "nbformat": 4,
  "nbformat_minor": 0
}
