{
  "cells": [
    {
      "attachments": {},
      "cell_type": "markdown",
      "metadata": {
        "id": "Tq1c5_KzUaCG"
      },
      "source": [
        "# Distribuciones discretas (e.j. binomial)\n",
        "\n",
        "---\n",
        "\n",
        "\n",
        "\n",
        "Recordando que la distribución `binomial` está dada por: \n",
        "\n",
        "$$\n",
        "P(k, n; p) = \\frac{n!}{k!(n-k)!}p^k (1-p)^{n-k} = {n \\choose k} p^k (1-p)^{n-k} \n",
        "$$\n",
        "\n",
        "$$\n",
        "{n \\choose k} = \\frac{n!}{k!(n-k)!}\n",
        "$$\n",
        "\n",
        "donde $P(k, n; p)$ representa la probabilidad de obtener $k$ éxitos de $n$ intentos con posibilidad **binaria** (por ejemplo, lanzamientos de moneda). \n",
        "\n",
        "`Ejemplo`: la probabilidad de obtener 4 caras a partir de 10 lanzamientos consecutivos de moneda, está dada por (tomando $p=0.5$, por lo tanto $1-p=0.5$): \n",
        "\n",
        "$$\n",
        "P(k=4, n=10; p=0.5) = {10 \\choose 4} \\left( \\frac{1}{2}\\right)^{10} = \\frac{10!}{4!6!} \\left( \\frac{1}{2}\\right)^{10}\n",
        "$$\n",
        "\n",
        "---\n",
        "\n",
        "Ahora, la probabilidad de obtener $k$ o menos éxitos a partir de $n$ intentos está dada por la distribución `acumulada`: \n",
        "\n",
        "$$\n",
        "C(k, n; p) = \\sum_{i=0}^k P(i, n;p) = \\sum_{i=0}^k {n \\choose i} p^i (1-p)^{n-i}\n",
        "$$ \n",
        "\n",
        "Por convención entendemos que:\n",
        "\n",
        "$$C(k=3,n=6;p=0.5) = P(k \\leq 3, n=6, p=0.5 )$$\n",
        "\n",
        "\n",
        "`Ejemplo`: la probabilidad de obtener 3 o menos caras a partir de 6 lanzamientos consecutivos está dada por (tomando $p=0.5$, por lo tanto $1-p=0.5$): \n",
        "\n",
        "$$P(k \\leq 3, n=6;p=0.5) = \\sum_{i=0}^3 {6 \\choose i} \\left(\\frac{1}{2} \\right)^6 $$\n",
        "\n",
        "$$P(k \\leq 3, n=6;p=0.5) = \\left(\\frac{1}{2} \\right)^6 \\sum_{i=0}^3 {6 \\choose i} $$\n",
        "\n",
        "$$P(k \\leq 3, n=6;p=0.5) = \\left(\\frac{1}{2} \\right)^6 \\left\\{ {6 \\choose 0} + {6 \\choose 1} + {6 \\choose 2} + {6 \\choose 3} \\right\\}$$\n"
      ]
    },
    {
      "attachments": {},
      "cell_type": "markdown",
      "metadata": {
        "id": "_03BrIqTkkH1"
      },
      "source": [
        "# Ejercicios (bloque 1)\n",
        "\n",
        "Calcula a mano las siguientes probabilidades (tomando $p=0.5$, por lo tanto $1-p=0.5$):\n",
        "\n",
        "1. Probabilidad de obtener 3 caras a partir de 12 lanzamientos de moneda.\n",
        "\n",
        "2. Probabilidad de obtener 5 o menos caras a partir de 10 lanzamientos de moneda. \n",
        "\n",
        "3. Probabilidad de obtener menos de 6 caras a partir de 10 lanzamientos de moneda.\n",
        "\n",
        "Calcula a mano las mismas probabilidades anteriores pero considerando ahora $p=0.3$."
      ]
    },
    {
      "attachments": {},
      "cell_type": "markdown",
      "metadata": {},
      "source": [
        "1\n",
        "$$\n",
        "\\frac{12!}{3!(12-3)!} (0.5)^{12} (1-0.5)^{12-3}\n",
        "$$\n",
        "----------\n",
        "2\n",
        "$$\n",
        "\\frac{10!}{5!(10-5)!} (0.5)^{10} (1-0.5)^{10-5} \n",
        "$$\n",
        "se cambia el 5 por el 4,3,2,1,0 ya que es menor o igual a 5, luego se suman las probabilidades \n",
        "\n",
        "3\n",
        "$$\n",
        "\\frac{10!}{5!(10-5)!} (0.5)^{10} (1-0.5)^{10-5} \n",
        "$$\n",
        "aqui cambia por que son los numeros menores a 6 por lo que se suman las probabilidade de la distribucion binomial de los numeos de exitos menorea 6 con n=10 "
      ]
    },
    {
      "attachments": {},
      "cell_type": "markdown",
      "metadata": {
        "id": "JW8Nt8avmVuB"
      },
      "source": [
        "# Bonus en Python"
      ]
    },
    {
      "cell_type": "code",
      "execution_count": 2,
      "metadata": {
        "id": "8cphK5HBUTaj"
      },
      "outputs": [],
      "source": [
        "# definición de la distribución binomial \n",
        "from math import factorial \n",
        "def my_binomial(k, n, p):\n",
        "  return factorial(n)/(factorial(k)*(factorial(n-k)))*pow(p,k)*pow(1-p, n-k)"
      ]
    },
    {
      "attachments": {},
      "cell_type": "markdown",
      "metadata": {
        "id": "F-UASz0RmZVA"
      },
      "source": [
        "Usando la función `my_binomial()`, definida previamente, verifica el cálculo de todas las probabilidades del punto anterior.\n",
        "\n",
        "Ejemplo:\n",
        "\n",
        "$$P(k \\leq 3, n=6, p=0.5)$$\n",
        "\n",
        "Se traduce en :\n",
        "\n",
        "```python\n",
        "total = 0\n",
        "for n in range(4):\n",
        "  total += my_binomial(i,6,0.5)\n",
        "\n",
        "print(total) \n",
        "```"
      ]
    },
    {
      "cell_type": "code",
      "execution_count": 3,
      "metadata": {
        "id": "6p9n3hA-mYoP"
      },
      "outputs": [
        {
          "data": {
            "text/plain": [
              "5.37109375"
            ]
          },
          "execution_count": 3,
          "metadata": {},
          "output_type": "execute_result"
        }
      ],
      "source": [
        "# escribe tu codigo aquí:\n",
        "#1\n",
        "my_binomial(3,12,0.5)*100\n"
      ]
    },
    {
      "cell_type": "code",
      "execution_count": 4,
      "metadata": {},
      "outputs": [
        {
          "name": "stdout",
          "output_type": "stream",
          "text": [
            "37.6953125\n"
          ]
        }
      ],
      "source": [
        "#2\n",
        "total = 0 \n",
        "for i in range(5):\n",
        "    total += my_binomial(i,10,0.5)\n",
        "    \n",
        "print (total*100)"
      ]
    },
    {
      "cell_type": "code",
      "execution_count": 5,
      "metadata": {},
      "outputs": [
        {
          "name": "stdout",
          "output_type": "stream",
          "text": [
            "suma cada 1 62.3046875\n",
            "formula con condicion 62.3046875\n"
          ]
        }
      ],
      "source": [
        "#3\n",
        "\n",
        "bi_0 = my_binomial(0,10,0.5)\n",
        "bi_1 = my_binomial(1,10,0.5)\n",
        "bi_2 = my_binomial(2,10,0.5)\n",
        "bi_3 = my_binomial(3,10,0.5)\n",
        "bi_4 = my_binomial(4,10,0.5)\n",
        "bi_5 = my_binomial(5,10,0.5)\n",
        "\n",
        "suma = bi_0 + bi_1 + bi_2 + bi_3 + bi_4 + bi_5\n",
        "\n",
        "print('suma cada 1',suma*100)\n",
        "\n",
        "\n",
        "total = 0 \n",
        "for i in range(6): # MENOR A 6\n",
        "    total += my_binomial(i,10,0.5)\n",
        "    \n",
        "print ('formula con condicion',total*100)"
      ]
    },
    {
      "cell_type": "code",
      "execution_count": 6,
      "metadata": {},
      "outputs": [
        {
          "name": "stdout",
          "output_type": "stream",
          "text": [
            "0.875\n"
          ]
        }
      ],
      "source": [
        "TOTAL = 0\n",
        "for i in range(3):\n",
        "    TOTAL += my_binomial(i,3,0.5)\n",
        "    \n",
        "print(TOTAL)"
      ]
    }
  ],
  "metadata": {
    "colab": {
      "provenance": []
    },
    "kernelspec": {
      "display_name": "Python 3",
      "name": "python3"
    },
    "language_info": {
      "codemirror_mode": {
        "name": "ipython",
        "version": 3
      },
      "file_extension": ".py",
      "mimetype": "text/x-python",
      "name": "python",
      "nbconvert_exporter": "python",
      "pygments_lexer": "ipython3",
      "version": "3.11.2"
    }
  },
  "nbformat": 4,
  "nbformat_minor": 0
}
