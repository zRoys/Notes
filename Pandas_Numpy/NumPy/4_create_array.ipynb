{
 "cells": [
  {
   "cell_type": "code",
   "execution_count": 1,
   "metadata": {},
   "outputs": [],
   "source": [
    "import numpy as np"
   ]
  },
  {
   "cell_type": "code",
   "execution_count": 3,
   "metadata": {},
   "outputs": [
    {
     "data": {
      "text/plain": [
       "[0, 1, 2, 3, 4, 5, 6, 7, 8, 9]"
      ]
     },
     "execution_count": 3,
     "metadata": {},
     "output_type": "execute_result"
    }
   ],
   "source": [
    "list(range(0,10))"
   ]
  },
  {
   "cell_type": "code",
   "execution_count": 6,
   "metadata": {},
   "outputs": [
    {
     "data": {
      "text/plain": [
       "array([ 0,  2,  4,  6,  8, 10, 12, 14, 16, 18])"
      ]
     },
     "execution_count": 6,
     "metadata": {},
     "output_type": "execute_result"
    }
   ],
   "source": [
    "# de esta forma puedes crear un array de un rango que quieras \n",
    "# numpy.arange(start,stop, step), dtype=None)\n",
    "np.arange(0,20,2)"
   ]
  },
  {
   "cell_type": "code",
   "execution_count": 9,
   "metadata": {},
   "outputs": [
    {
     "data": {
      "text/plain": [
       "array([[0., 0., 0., 0., 0., 0., 0., 0., 0., 0.],\n",
       "       [0., 0., 0., 0., 0., 0., 0., 0., 0., 0.],\n",
       "       [0., 0., 0., 0., 0., 0., 0., 0., 0., 0.],\n",
       "       [0., 0., 0., 0., 0., 0., 0., 0., 0., 0.],\n",
       "       [0., 0., 0., 0., 0., 0., 0., 0., 0., 0.],\n",
       "       [0., 0., 0., 0., 0., 0., 0., 0., 0., 0.],\n",
       "       [0., 0., 0., 0., 0., 0., 0., 0., 0., 0.],\n",
       "       [0., 0., 0., 0., 0., 0., 0., 0., 0., 0.],\n",
       "       [0., 0., 0., 0., 0., 0., 0., 0., 0., 0.],\n",
       "       [0., 0., 0., 0., 0., 0., 0., 0., 0., 0.]])"
      ]
     },
     "execution_count": 9,
     "metadata": {},
     "output_type": "execute_result"
    }
   ],
   "source": [
    "# Nos permite definir estructuras o esquemas\n",
    "np.zeros((10,10))"
   ]
  },
  {
   "cell_type": "code",
   "execution_count": 10,
   "metadata": {},
   "outputs": [
    {
     "data": {
      "text/plain": [
       "array([[1., 1., 1., 1., 1., 1., 1., 1., 1., 1.],\n",
       "       [1., 1., 1., 1., 1., 1., 1., 1., 1., 1.],\n",
       "       [1., 1., 1., 1., 1., 1., 1., 1., 1., 1.],\n",
       "       [1., 1., 1., 1., 1., 1., 1., 1., 1., 1.],\n",
       "       [1., 1., 1., 1., 1., 1., 1., 1., 1., 1.],\n",
       "       [1., 1., 1., 1., 1., 1., 1., 1., 1., 1.],\n",
       "       [1., 1., 1., 1., 1., 1., 1., 1., 1., 1.],\n",
       "       [1., 1., 1., 1., 1., 1., 1., 1., 1., 1.],\n",
       "       [1., 1., 1., 1., 1., 1., 1., 1., 1., 1.],\n",
       "       [1., 1., 1., 1., 1., 1., 1., 1., 1., 1.]])"
      ]
     },
     "execution_count": 10,
     "metadata": {},
     "output_type": "execute_result"
    }
   ],
   "source": [
    "np.ones((10,10))"
   ]
  },
  {
   "cell_type": "code",
   "execution_count": 13,
   "metadata": {},
   "outputs": [
    {
     "data": {
      "text/plain": [
       "array([  0.        ,   1.01010101,   2.02020202,   3.03030303,\n",
       "         4.04040404,   5.05050505,   6.06060606,   7.07070707,\n",
       "         8.08080808,   9.09090909,  10.1010101 ,  11.11111111,\n",
       "        12.12121212,  13.13131313,  14.14141414,  15.15151515,\n",
       "        16.16161616,  17.17171717,  18.18181818,  19.19191919,\n",
       "        20.2020202 ,  21.21212121,  22.22222222,  23.23232323,\n",
       "        24.24242424,  25.25252525,  26.26262626,  27.27272727,\n",
       "        28.28282828,  29.29292929,  30.3030303 ,  31.31313131,\n",
       "        32.32323232,  33.33333333,  34.34343434,  35.35353535,\n",
       "        36.36363636,  37.37373737,  38.38383838,  39.39393939,\n",
       "        40.4040404 ,  41.41414141,  42.42424242,  43.43434343,\n",
       "        44.44444444,  45.45454545,  46.46464646,  47.47474747,\n",
       "        48.48484848,  49.49494949,  50.50505051,  51.51515152,\n",
       "        52.52525253,  53.53535354,  54.54545455,  55.55555556,\n",
       "        56.56565657,  57.57575758,  58.58585859,  59.5959596 ,\n",
       "        60.60606061,  61.61616162,  62.62626263,  63.63636364,\n",
       "        64.64646465,  65.65656566,  66.66666667,  67.67676768,\n",
       "        68.68686869,  69.6969697 ,  70.70707071,  71.71717172,\n",
       "        72.72727273,  73.73737374,  74.74747475,  75.75757576,\n",
       "        76.76767677,  77.77777778,  78.78787879,  79.7979798 ,\n",
       "        80.80808081,  81.81818182,  82.82828283,  83.83838384,\n",
       "        84.84848485,  85.85858586,  86.86868687,  87.87878788,\n",
       "        88.88888889,  89.8989899 ,  90.90909091,  91.91919192,\n",
       "        92.92929293,  93.93939394,  94.94949495,  95.95959596,\n",
       "        96.96969697,  97.97979798,  98.98989899, 100.        ])"
      ]
     },
     "execution_count": 13,
     "metadata": {},
     "output_type": "execute_result"
    }
   ],
   "source": [
    "# define un inicio, un final y cuantas divisiones tendrá.\n",
    "np.linspace(0,100,100)"
   ]
  },
  {
   "cell_type": "code",
   "execution_count": 14,
   "metadata": {},
   "outputs": [
    {
     "data": {
      "text/plain": [
       "array([[1., 0., 0., 0.],\n",
       "       [0., 1., 0., 0.],\n",
       "       [0., 0., 1., 0.],\n",
       "       [0., 0., 0., 1.]])"
      ]
     },
     "execution_count": 14,
     "metadata": {},
     "output_type": "execute_result"
    }
   ],
   "source": [
    "np.eye(4)"
   ]
  },
  {
   "cell_type": "code",
   "execution_count": 22,
   "metadata": {},
   "outputs": [
    {
     "data": {
      "text/plain": [
       "array([[[0.33390858, 0.79908778],\n",
       "        [0.15057735, 0.50941876]],\n",
       "\n",
       "       [[0.59961104, 0.09773378],\n",
       "        [0.52830759, 0.81514639]],\n",
       "\n",
       "       [[0.54597255, 0.51264235],\n",
       "        [0.02873174, 0.05789341]],\n",
       "\n",
       "       [[0.50989169, 0.01044474],\n",
       "        [0.80666935, 0.59291283]]])"
      ]
     },
     "execution_count": 22,
     "metadata": {},
     "output_type": "execute_result"
    }
   ],
   "source": [
    "np.random.rand(4,2,2)"
   ]
  },
  {
   "cell_type": "code",
   "execution_count": 23,
   "metadata": {},
   "outputs": [
    {
     "name": "stdout",
     "output_type": "stream",
     "text": [
      "[[[54 38 78]]]\n"
     ]
    }
   ],
   "source": [
    "enteros_aleatorios = np.random.randint(0, 100, size=(1, 1, 3))\n",
    "print(enteros_aleatorios)\n",
    "# ☑️ np.random.randint(Start, End, cantidad de caracteres(Filas, Columnas, numero de caracteres)) \n",
    "# para numeros enteros aleatorios "
   ]
  },
  {
   "cell_type": "code",
   "execution_count": 35,
   "metadata": {},
   "outputs": [
    {
     "data": {
      "text/plain": [
       "array([[15, 78, 45, 48, 58, 31,  3, 50, 13, 16],\n",
       "       [83, 96,  4, 67, 28, 96, 69, 73, 15, 52],\n",
       "       [13, 44,  4, 36, 35,  5, 28, 59, 27, 57],\n",
       "       [15, 93, 26, 17, 32, 96, 34, 92, 75, 63],\n",
       "       [ 7, 72, 51, 98, 71, 60, 36, 97, 44, 19],\n",
       "       [40, 21,  7, 55, 25, 95, 24, 88, 45, 65],\n",
       "       [34, 41, 22, 30, 25, 19, 11, 84, 49, 55],\n",
       "       [23, 92, 90, 69, 88, 87, 95, 33, 37, 90],\n",
       "       [61, 61, 79, 11, 83,  1, 96, 85, 90, 59],\n",
       "       [82, 92, 73, 91, 66, 37, 13, 65, 59, 69]])"
      ]
     },
     "execution_count": 35,
     "metadata": {},
     "output_type": "execute_result"
    }
   ],
   "source": [
    "np.random.randint(1,100,(10,10))"
   ]
  },
  {
   "cell_type": "code",
   "execution_count": 36,
   "metadata": {},
   "outputs": [
    {
     "data": {
      "text/plain": [
       "array([[7, 7, 7],\n",
       "       [7, 7, 7],\n",
       "       [7, 7, 7]])"
      ]
     },
     "execution_count": 36,
     "metadata": {},
     "output_type": "execute_result"
    }
   ],
   "source": [
    "# con un numero predeterminado\n",
    "matriz= np.full((3,3),7)\n",
    "matriz"
   ]
  }
 ],
 "metadata": {
  "kernelspec": {
   "display_name": "python",
   "language": "python",
   "name": "python3"
  },
  "language_info": {
   "codemirror_mode": {
    "name": "ipython",
    "version": 3
   },
   "file_extension": ".py",
   "mimetype": "text/x-python",
   "name": "python",
   "nbconvert_exporter": "python",
   "pygments_lexer": "ipython3",
   "version": "3.11.2"
  },
  "orig_nbformat": 4
 },
 "nbformat": 4,
 "nbformat_minor": 2
}
